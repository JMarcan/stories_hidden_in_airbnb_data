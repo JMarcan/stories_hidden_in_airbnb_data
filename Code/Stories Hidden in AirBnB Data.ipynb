{
 "cells": [
  {
   "cell_type": "markdown",
   "metadata": {},
   "source": [
    "**Business questions formulation:**\n",
    "1. How can landlord increase his income by increasing his activity on AirBnB?\n",
    "2. When is the most profitable month to be landlord at AirBnB?\n",
    "3. When is the most profitable month to be tenant at AirBnB?"
   ]
  },
  {
   "cell_type": "code",
   "execution_count": 1,
   "metadata": {},
   "outputs": [],
   "source": [
    "import pandas as pd\n",
    "import matplotlib.pyplot as plt\n",
    "import matplotlib.dates as mdates\n",
    "from matplotlib import dates\n",
    "import datetime\n",
    "%matplotlib inline"
   ]
  },
  {
   "cell_type": "markdown",
   "metadata": {},
   "source": [
    "**Gathering necessary data**\n",
    "\n",
    "Based on my personal interrest the following cities were selected:\n",
    "- Prague\n",
    "- Munich\n",
    "- Zurich\n",
    "- San Francisco\n",
    "\n",
    "To answer the questions above I've choosen [Seattle AirBnB Data](https://www.kaggle.com/airbnb/seattle/data) avaible on Kaggle. Other cities can have different results."
   ]
  },
  {
   "cell_type": "markdown",
   "metadata": {},
   "source": [
    "**Assessing the data**\n",
    "\n",
    "To exclude differences caused by variety in listing only the following accomodations will be considered:\n",
    "       - 2 guests, apartment, entire room, 1x bedroom, 1xbed, 1x private bath\n",
    "       \n",
    "To answer the question one the following data from ***listings.csv*** will be used:\n",
    "    - 'id'\n",
    "    - 'price'\n",
    "    - 'host_response_time'\n",
    "    \n",
    "To answer the question two and three the following data from ***calendar.csv*** will be used:\n",
    "    - 'listing_id'\n",
    "    - 'date'\n",
    "    - 'price'\n",
    "    - 'avaibility'"
   ]
  },
  {
   "cell_type": "code",
   "execution_count": 2,
   "metadata": {},
   "outputs": [],
   "source": [
    "def print_rows_cols(df):\n",
    "    '''\n",
    "        Print number of rows and columns in a provided dataset\n",
    "        \n",
    "        Parameters:\n",
    "        arg1 (pandas_dataframe): Dataframe for which number of rows and columns is printed\n",
    "        \n",
    "        Returns:\n",
    "        Nothing\n",
    "    '''\n",
    "    \n",
    "    num_rows = df.shape[0] #Provide the number of rows in the dataset\n",
    "    num_cols = df.shape[1] #Provide the number of columns in the dataset\n",
    "    print (\"The dataset has: {} rows and {} columns\".format(num_rows, num_cols))"
   ]
  },
  {
   "cell_type": "code",
   "execution_count": 14,
   "metadata": {
    "scrolled": true
   },
   "outputs": [
    {
     "name": "stderr",
     "output_type": "stream",
     "text": [
      "C:\\ProgramData\\Anaconda3\\lib\\site-packages\\IPython\\core\\interactiveshell.py:2907: DtypeWarning: Columns (95) have mixed types. Specify dtype option on import or set low_memory=False.\n",
      "  if self.run_code(code, result):\n"
     ]
    }
   ],
   "source": [
    "# Assessing of relevant data - listings.csv\n",
    "\n",
    " \n",
    "listings_data = ''\n",
    "calendar_data = ''\n",
    "\n",
    "def load_data():\n",
    "    ''' Loads a city dataset\n",
    "        \n",
    "        Parameters:\n",
    "        Nothing\n",
    "        \n",
    "        Returns:\n",
    "        Nothing\n",
    "    '''\n",
    "        \n",
    "\n",
    "    listings_data = pd.read_csv('../Dataset/Prague/listings.csv')\n",
    "    calendar_data = pd.read_csv('../Dataset/Prague/calendar.csv')\n",
    "\n",
    "load_data()"
   ]
  },
  {
   "cell_type": "code",
   "execution_count": null,
   "metadata": {},
   "outputs": [],
   "source": []
  }
 ],
 "metadata": {
  "kernelspec": {
   "display_name": "Python 3",
   "language": "python",
   "name": "python3"
  },
  "language_info": {
   "codemirror_mode": {
    "name": "ipython",
    "version": 3
   },
   "file_extension": ".py",
   "mimetype": "text/x-python",
   "name": "python",
   "nbconvert_exporter": "python",
   "pygments_lexer": "ipython3",
   "version": "3.7.0"
  }
 },
 "nbformat": 4,
 "nbformat_minor": 2
}
