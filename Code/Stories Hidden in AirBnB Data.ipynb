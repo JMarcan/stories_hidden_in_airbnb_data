{
 "cells": [
  {
   "cell_type": "markdown",
   "metadata": {},
   "source": [
    "**Business questions formulation:**\n",
    "\n",
    "1. How looks the typical guest using AirBnB services? Is it foreigner or countryman? What is typical age?\n",
    "2. When the most people visit each city?\n",
    "3. What are the average prices per night?\n",
    "4. What is average realized revenue per month?\n",
    "5. In which month is the most profitable to be landlord? In which month is best to do reconstructions?\n",
    "6. In which month is the most cost effective to visit the city as guest?"
   ]
  },
  {
   "cell_type": "code",
   "execution_count": 4,
   "metadata": {},
   "outputs": [],
   "source": [
    "import pandas as pd\n",
    "import matplotlib.pyplot as plt\n",
    "import matplotlib.dates as mdates\n",
    "from matplotlib import dates\n",
    "import datetime\n",
    "%matplotlib inline"
   ]
  },
  {
   "cell_type": "markdown",
   "metadata": {},
   "source": [
    "**Gathering necessary data**\n",
    "\n",
    "Based on my personal interrest the following cities were selected:\n",
    "- Prague\n",
    "- Munich\n",
    "- Zurich\n",
    "- San Francisco\n",
    "\n",
    "To answer the questions above I've choosen [Data Published on InsideAirBnB](http://insideairbnb.com/get-the-data.html)"
   ]
  },
  {
   "cell_type": "markdown",
   "metadata": {},
   "source": [
    "**Assessing the data**\n",
    "\n",
    "To exclude differences caused by variety in listing only the following accomodations will be considered:\n",
    "       - 2 guests, apartment, entire room, 1x bedroom, 1xbed, 1x private bath\n",
    "       \n",
    "To answer the question one the following data from ***listings.csv*** will be used:\n",
    "    - 'id'\n",
    "    - 'price'\n",
    "    - 'host_response_time'\n",
    "    \n",
    "To answer the question two and three the following data from ***calendar.csv*** will be used:\n",
    "    - 'listing_id'\n",
    "    - 'date'\n",
    "    - 'price'\n",
    "    - 'avaibility'"
   ]
  },
  {
   "cell_type": "code",
   "execution_count": 17,
   "metadata": {},
   "outputs": [],
   "source": [
    "class City:\n",
    "    data_selection_done = False # Indicate whether redundant columns were already removed\n",
    "    \n",
    "    def __init__(self, name, data_folder):\n",
    "        self.name = name\n",
    "        self.data_folder = data_folder\n",
    "        \n",
    "        self.listings = pd.read_csv(self.data_folder + \"/listings.csv\")\n",
    "        self.calendar = pd.read_csv(self.data_folder + \"/calendar.csv\")"
   ]
  },
  {
   "cell_type": "code",
   "execution_count": null,
   "metadata": {},
   "outputs": [
    {
     "name": "stderr",
     "output_type": "stream",
     "text": [
      "C:\\ProgramData\\Anaconda3\\lib\\site-packages\\IPython\\core\\interactiveshell.py:2901: DtypeWarning: Columns (95) have mixed types. Specify dtype option on import or set low_memory=False.\n",
      "  if self.run_code(code, result):\n"
     ]
    }
   ],
   "source": [
    "#Initialize cities\n",
    "prague = City(\"Prague\", \"../Dataset/Prague\")"
   ]
  },
  {
   "cell_type": "code",
   "execution_count": 14,
   "metadata": {},
   "outputs": [],
   "source": [
    "def print_rows_cols(df):\n",
    "    '''\n",
    "        Print number of rows and columns in a provided dataset\n",
    "        \n",
    "        Parameters:\n",
    "        arg1 (pandas_dataframe): Dataframe for which number of rows and columns is printed\n",
    "        \n",
    "        Returns:\n",
    "        Nothing\n",
    "    '''\n",
    "    \n",
    "    num_rows = df.shape[0] #Provide the number of rows in the dataset\n",
    "    num_cols = df.shape[1] #Provide the number of columns in the dataset\n",
    "    print (\"The dataset has: {} rows and {} columns\".format(num_rows, num_cols))"
   ]
  },
  {
   "cell_type": "code",
   "execution_count": 15,
   "metadata": {},
   "outputs": [
    {
     "name": "stdout",
     "output_type": "stream",
     "text": [
      "['id' 'listing_url' 'scrape_id' 'last_scraped' 'name' 'summary' 'space'\n",
      " 'description' 'experiences_offered' 'neighborhood_overview' 'notes'\n",
      " 'transit' 'access' 'interaction' 'house_rules' 'thumbnail_url'\n",
      " 'medium_url' 'picture_url' 'xl_picture_url' 'host_id' 'host_url'\n",
      " 'host_name' 'host_since' 'host_location' 'host_about'\n",
      " 'host_response_time' 'host_response_rate' 'host_acceptance_rate'\n",
      " 'host_is_superhost' 'host_thumbnail_url' 'host_picture_url'\n",
      " 'host_neighbourhood' 'host_listings_count' 'host_total_listings_count'\n",
      " 'host_verifications' 'host_has_profile_pic' 'host_identity_verified'\n",
      " 'street' 'neighbourhood' 'neighbourhood_cleansed'\n",
      " 'neighbourhood_group_cleansed' 'city' 'state' 'zipcode' 'market'\n",
      " 'smart_location' 'country_code' 'country' 'latitude' 'longitude'\n",
      " 'is_location_exact' 'property_type' 'room_type' 'accommodates'\n",
      " 'bathrooms' 'bedrooms' 'beds' 'bed_type' 'amenities' 'square_feet'\n",
      " 'price' 'weekly_price' 'monthly_price' 'security_deposit' 'cleaning_fee'\n",
      " 'guests_included' 'extra_people' 'minimum_nights' 'maximum_nights'\n",
      " 'minimum_minimum_nights' 'maximum_minimum_nights'\n",
      " 'minimum_maximum_nights' 'maximum_maximum_nights'\n",
      " 'minimum_nights_avg_ntm' 'maximum_nights_avg_ntm' 'calendar_updated'\n",
      " 'has_availability' 'availability_30' 'availability_60' 'availability_90'\n",
      " 'availability_365' 'calendar_last_scraped' 'number_of_reviews'\n",
      " 'number_of_reviews_ltm' 'first_review' 'last_review'\n",
      " 'review_scores_rating' 'review_scores_accuracy'\n",
      " 'review_scores_cleanliness' 'review_scores_checkin'\n",
      " 'review_scores_communication' 'review_scores_location'\n",
      " 'review_scores_value' 'requires_license' 'license' 'jurisdiction_names'\n",
      " 'instant_bookable' 'is_business_travel_ready' 'cancellation_policy'\n",
      " 'require_guest_profile_picture' 'require_guest_phone_verification'\n",
      " 'calculated_host_listings_count'\n",
      " 'calculated_host_listings_count_entire_homes'\n",
      " 'calculated_host_listings_count_private_rooms'\n",
      " 'calculated_host_listings_count_shared_rooms' 'reviews_per_month']\n",
      "The dataset has: 14184 rows and 106 columns\n",
      "['listing_id' 'date' 'available' 'price' 'adjusted_price' 'minimum_nights'\n",
      " 'maximum_nights']\n",
      "The dataset has: 5177183 rows and 7 columns\n"
     ]
    }
   ],
   "source": [
    "def explore_data(city):\n",
    "    ''' Prints basic info about the dataset\n",
    "        \n",
    "        Parameters:\n",
    "        Nothing\n",
    "        \n",
    "        Returns:\n",
    "        Nothing\n",
    "    '''\n",
    "    \n",
    "    print(city.listings.columns.values)\n",
    "    print_rows_cols(city.listings)\n",
    "    print(city.calendar.columns.values)\n",
    "    print_rows_cols(city.calendar)\n",
    "    \n",
    "explore_data(prague)"
   ]
  },
  {
   "cell_type": "code",
   "execution_count": 16,
   "metadata": {},
   "outputs": [
    {
     "name": "stdout",
     "output_type": "stream",
     "text": [
      "The dataset has: 2722 rows and 106 columns\n",
      "The dataset has: 993532 rows and 7 columns\n"
     ]
    }
   ],
   "source": [
    "def select_relevant_data(city):\n",
    "    ''' Selects relevant data from the whole dataset\n",
    "        \n",
    "        Parameters:\n",
    "            - city as object City with loaded data for a given city\n",
    "        \n",
    "        Returns:\n",
    "        Nothing\n",
    "    '''\n",
    "    \n",
    "    if city.data_selection_done == True: # Avoid removing columns that were already removed\n",
    "        print(\"City \\'{0}\\': Relevant columns were already removed\".format(city.name))\n",
    "        return\n",
    "    \n",
    "    # Selection of listing fulfilling condition for 2 guests, apartment, entire room, 1x bedroom, 1xbed, 1x private bath\n",
    "    city.listings = city.listings[(city.listings['property_type'] == 'Apartment') & (city.listings['room_type'] == 'Entire home/apt') & (city.listings['accommodates'] > 2) & (city.listings['bathrooms'] == 1) & (city.listings['bathrooms'] == 1) & (city.listings['bedrooms'] == 1)]\n",
    "    print_rows_cols(city.listings)\n",
    "\n",
    "    # Keep in the calendar dataset only properties fulfilling the conditions above\n",
    "    city.calendar = city.calendar[(city.calendar['listing_id'].isin(city.listings['id']))]\n",
    "    print_rows_cols(city.calendar)\n",
    "\n",
    "    # Only relevant columns are further processed\n",
    "    city.listings = city.listings[['id', 'price', 'host_response_time']].copy()\n",
    "    \n",
    "    city.data_selection_done = True\n",
    "    \n",
    "select_relevant_data(prague)"
   ]
  },
  {
   "cell_type": "code",
   "execution_count": null,
   "metadata": {},
   "outputs": [],
   "source": []
  }
 ],
 "metadata": {
  "kernelspec": {
   "display_name": "Python 3",
   "language": "python",
   "name": "python3"
  },
  "language_info": {
   "codemirror_mode": {
    "name": "ipython",
    "version": 3
   },
   "file_extension": ".py",
   "mimetype": "text/x-python",
   "name": "python",
   "nbconvert_exporter": "python",
   "pygments_lexer": "ipython3",
   "version": "3.7.0"
  }
 },
 "nbformat": 4,
 "nbformat_minor": 2
}
