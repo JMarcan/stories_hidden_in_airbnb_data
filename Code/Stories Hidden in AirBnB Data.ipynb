{
 "cells": [
  {
   "cell_type": "markdown",
   "metadata": {},
   "source": [
    "# Business questions formulation\n",
    "1. How looks the typical guest using AirBnB services? Is it foreigner or countryman? Will data reveal a clear segment in which landlords could specialize?\n",
    "2. Is Airbnb used primary as home sharing with tourists? Or as a business where entire flats are dedicated to tourists disturbing local housing market?\n"
   ]
  },
  {
   "cell_type": "code",
   "execution_count": 1,
   "metadata": {},
   "outputs": [],
   "source": [
    "import pandas as pd\n",
    "import matplotlib.pyplot as plt\n",
    "import matplotlib.dates as mdates\n",
    "from matplotlib import dates\n",
    "import datetime\n",
    "%matplotlib inline\n",
    "import gender_guesser.detector as gender"
   ]
  },
  {
   "cell_type": "markdown",
   "metadata": {},
   "source": [
    "# Gathering necessary data\n",
    "\n",
    "Based on my personal interrest the following cities were selected:\n",
    "- Prague\n",
    "- Munich\n",
    "- ~~Zurich~~ (Zurich data were temporary unavailable)\n",
    "- Geneva \n",
    "- San Francisco\n",
    "\n",
    "To answer the questions above I've choosen [Data Published on InsideAirBnB](http://insideairbnb.com/get-the-data.html)"
   ]
  },
  {
   "cell_type": "code",
   "execution_count": 2,
   "metadata": {},
   "outputs": [],
   "source": [
    "class City:\n",
    "    data_selection_done = False # Indicate whether redundant columns were already removed\n",
    "    data_cleaning_done = False # Indicate whether data were already cleaned\n",
    "    \n",
    "    monthly_avaibility = None # monthly average of properties avaibility\n",
    "    monthly_price = None # monthly average of rental prices\n",
    "    monthly_price_min = None\n",
    "    monthly_price_max = None\n",
    "    monthly_avaibility_min = None\n",
    "    monthly_avaibility_max = None\n",
    "    \n",
    "    data_timeframe = None # Range of dataset (e.g. \"2019 November - 2020 December\")\n",
    "    \n",
    "    # objects holding datasets\n",
    "    listings = None\n",
    "    calendar = None\n",
    "    reviews = None\n",
    "    \n",
    "    def __init__(self, name, data_folder):\n",
    "        self.name = name\n",
    "        self.data_folder = data_folder      \n",
    "    \n",
    "    def load_listings(self):\n",
    "        self.listings = pd.read_csv(self.data_folder + \"/listings.csv\", low_memory=False)\n",
    "        \n",
    "    def release_listings(self):\n",
    "        del self.listings   \n",
    "   \n",
    "    def load_reviews(self):\n",
    "        self.reviews = pd.read_csv(self.data_folder + \"/reviews.csv\")\n",
    "        \n",
    "    def release_reviews(self):\n",
    "        del self.reviews"
   ]
  },
  {
   "cell_type": "code",
   "execution_count": 3,
   "metadata": {},
   "outputs": [],
   "source": [
    "#Initialize cities\n",
    "prague = City(\"Prague\", \"../Dataset/Prague\")\n",
    "munich = City(\"Munich\", \"../Dataset/Munich\")\n",
    "geneva = City(\"Geneva\", \"../Dataset/Geneva\")\n",
    "san_francisco = City(\"San Francisco\", \"../Dataset/San Francisco\")\n",
    "\n",
    "cities_list = [prague, munich, san_francisco, geneva]"
   ]
  },
  {
   "cell_type": "code",
   "execution_count": 4,
   "metadata": {},
   "outputs": [],
   "source": [
    "def get_rows_cols(df):\n",
    "    '''\n",
    "        Print number of rows and columns in a provided dataset\n",
    "        \n",
    "        Parameters:\n",
    "        arg1 (pandas_dataframe): Dataframe for which number of rows and columns is printed\n",
    "        \n",
    "        Returns:\n",
    "        Nothing\n",
    "    '''\n",
    "    \n",
    "    rows = df.shape[0] #Provide the number of rows in the dataset\n",
    "    cols = df.shape[1] #Provide the number of columns in the dataset\n",
    "    \n",
    "    return rows, cols\n",
    "\n",
    "def explore_data(df, df_name):\n",
    "    ''' Prints number of rows and columns in a provided dataset\n",
    "        \n",
    "        Parameters:\n",
    "        Nothing\n",
    "        \n",
    "        Returns:\n",
    "        Nothing\n",
    "    '''\n",
    "    \n",
    "    rows, cols = get_rows_cols(df)\n",
    "    print (\"The dataset \\'{0}\\' has: {1} rows and {2} columns\".format(df_name, rows, cols))"
   ]
  },
  {
   "cell_type": "markdown",
   "metadata": {},
   "source": [
    "# Chapter to get Answer to Question 1\n",
    "1. How looks the typical guest using AirBnB services? Is it foreigner or countryman? Will data reveal a clear segment in which landlords could specialize?"
   ]
  },
  {
   "cell_type": "markdown",
   "metadata": {},
   "source": [
    "Here I intended to use unsupervised machine learning to identify guests segments as I did in [this project](https://github.com/JMarcan/unsupervised_learning_customer_segments). However, the only data available about guests seems to be their name in 'reviews.csv'. \n",
    "\n",
    "Therefore, the only thing we can find out is whether guests writing reviews are in majority men or women. \n",
    "\n",
    "When singer from my hometown Jaromir Nohavica openened his cabaret club, he mentioned that \"The secret is to make this place nice for women. When the place is nice for women, they will brings men with them.\". Let's check whether its applicable even here.\n",
    "\n",
    "As training my machine learning model for this task would be an overkill,\n",
    "I decided to use avaible python library [gender_guesser](https://pypi.org/project/gender-guesser/) that can predict whether a provided name is male or female."
   ]
  },
  {
   "cell_type": "markdown",
   "metadata": {},
   "source": [
    "## Steps to get answer to the question 1"
   ]
  },
  {
   "cell_type": "code",
   "execution_count": 5,
   "metadata": {},
   "outputs": [
    {
     "name": "stdout",
     "output_type": "stream",
     "text": [
      "=== Load & Explore reviews dataset ===\n",
      "- Explore dataset for city 'Prague'\n",
      "['listing_id' 'id' 'date' 'reviewer_id' 'reviewer_name' 'comments']\n",
      "The dataset 'reviews' has: 683884 rows and 6 columns\n",
      "- Explore dataset for city 'Munich'\n",
      "['listing_id' 'id' 'date' 'reviewer_id' 'reviewer_name' 'comments']\n",
      "The dataset 'reviews' has: 175562 rows and 6 columns\n",
      "- Explore dataset for city 'San Francisco'\n",
      "['listing_id' 'id' 'date' 'reviewer_id' 'reviewer_name' 'comments']\n",
      "The dataset 'reviews' has: 382156 rows and 6 columns\n",
      "- Explore dataset for city 'Geneva'\n",
      "['listing_id' 'id' 'date' 'reviewer_id' 'reviewer_name' 'comments']\n",
      "The dataset 'reviews' has: 68163 rows and 6 columns\n"
     ]
    }
   ],
   "source": [
    "def explore_reviews_dataset(city):\n",
    "    ''' Print columns names for dataset reviews for a given city\n",
    "        \n",
    "        Args:\n",
    "            city (City): instance of object City\n",
    "            \n",
    "        Returns:\n",
    "            None\n",
    "    '''\n",
    "    print(\"- Explore dataset for city \\'{0}\\'\".format(city.name))\n",
    "    print(city.reviews.columns.values)\n",
    "\n",
    "print(\"=== Load & Explore reviews dataset ===\") \n",
    "for city in cities_list:\n",
    "    city.load_reviews()\n",
    "    \n",
    "    explore_reviews_dataset(city)\n",
    "    explore_data(city.reviews, \"reviews\")"
   ]
  },
  {
   "cell_type": "code",
   "execution_count": 6,
   "metadata": {},
   "outputs": [
    {
     "name": "stdout",
     "output_type": "stream",
     "text": [
      "=== Load gender distribution statistics ===\n",
      "- Reading statistics for city Prague\n",
      "- Reading statistics for city Munich\n",
      "- Reading statistics for city San Francisco\n",
      "- Reading statistics for city Geneva\n"
     ]
    },
    {
     "data": {
      "text/html": [
       "<div>\n",
       "<style scoped>\n",
       "    .dataframe tbody tr th:only-of-type {\n",
       "        vertical-align: middle;\n",
       "    }\n",
       "\n",
       "    .dataframe tbody tr th {\n",
       "        vertical-align: top;\n",
       "    }\n",
       "\n",
       "    .dataframe thead th {\n",
       "        text-align: right;\n",
       "    }\n",
       "</style>\n",
       "<table border=\"1\" class=\"dataframe\">\n",
       "  <thead>\n",
       "    <tr style=\"text-align: right;\">\n",
       "      <th></th>\n",
       "      <th>city</th>\n",
       "      <th>male_%</th>\n",
       "      <th>female_%</th>\n",
       "      <th>unknown_%</th>\n",
       "      <th>count_of_records</th>\n",
       "    </tr>\n",
       "  </thead>\n",
       "  <tbody>\n",
       "    <tr>\n",
       "      <th>0</th>\n",
       "      <td>Prague</td>\n",
       "      <td>38.165244</td>\n",
       "      <td>37.377830</td>\n",
       "      <td>24.456925</td>\n",
       "      <td>683884</td>\n",
       "    </tr>\n",
       "    <tr>\n",
       "      <th>0</th>\n",
       "      <td>Munich</td>\n",
       "      <td>41.412720</td>\n",
       "      <td>35.314590</td>\n",
       "      <td>23.272690</td>\n",
       "      <td>175562</td>\n",
       "    </tr>\n",
       "    <tr>\n",
       "      <th>0</th>\n",
       "      <td>San Francisco</td>\n",
       "      <td>38.868420</td>\n",
       "      <td>37.892379</td>\n",
       "      <td>23.239201</td>\n",
       "      <td>382156</td>\n",
       "    </tr>\n",
       "    <tr>\n",
       "      <th>0</th>\n",
       "      <td>Geneva</td>\n",
       "      <td>38.629462</td>\n",
       "      <td>36.549154</td>\n",
       "      <td>24.821384</td>\n",
       "      <td>68163</td>\n",
       "    </tr>\n",
       "  </tbody>\n",
       "</table>\n",
       "</div>"
      ],
      "text/plain": [
       "            city     male_%   female_%  unknown_% count_of_records\n",
       "0         Prague  38.165244  37.377830  24.456925           683884\n",
       "0         Munich  41.412720  35.314590  23.272690           175562\n",
       "0  San Francisco  38.868420  37.892379  23.239201           382156\n",
       "0         Geneva  38.629462  36.549154  24.821384            68163"
      ]
     },
     "metadata": {},
     "output_type": "display_data"
    }
   ],
   "source": [
    "d = gender.Detector()\n",
    "\n",
    "def get_statistics_row(city):\n",
    "    ''' Get row with gender statistics for a given city\n",
    "        \n",
    "        Args:\n",
    "            city (City): instance of object City\n",
    "            \n",
    "        Returns:\n",
    "            df1 (pd.DataFrame): row with gender statistics for a given city\n",
    "    '''\n",
    "    print(\"- Reading statistics for city {0}\".format(city.name))\n",
    "\n",
    "    city.reviews['gender'] = city.reviews['reviewer_name'].map(lambda x: d.get_gender(x))\n",
    "\n",
    "    total_count = city.reviews['gender'].shape[0]\n",
    "    males_count= (city.reviews['gender'] == 'male').sum()\n",
    "    females_count = (city.reviews['gender'] == 'female').sum()\n",
    "    unknown_count =  total_count - (males_count + females_count)\n",
    "\n",
    "    males_perc = (100*males_count/total_count)\n",
    "    females_perc = (100*females_count/total_count)\n",
    "    unknown_perc = (100*unknown_count/total_count)\n",
    "\n",
    "    df1 = pd.DataFrame({'city': [city.name], \n",
    "                    'male_%': [males_perc],\n",
    "                    'female_%': [females_perc],\n",
    "                    'unknown_%': [unknown_perc],\n",
    "                    'count_of_records': [total_count]\n",
    "                   })\n",
    "    return df1\n",
    "\n",
    "table_gender = pd.DataFrame(columns = ['city', 'male_%', 'female_%', 'unknown_%', 'count_of_records'])\n",
    "\n",
    "print(\"=== Load gender distribution statistics ===\") \n",
    "for city in cities_list:\n",
    "    df1 = get_statistics_row(city)\n",
    "    table_gender = table_gender.append(df1)\n",
    "\n",
    "display(table_gender)"
   ]
  },
  {
   "cell_type": "markdown",
   "metadata": {},
   "source": [
    "## Answer to the question 1\n",
    "You can see that the library identified in each city gender for more than 75% of inputs.\n",
    "\n",
    "The table does not show significant difference between ratio of males and females writing reviews.\n",
    "Maximum deviation of 6% has Munich where 41% of authors were identified as males and 35% as females. Taking into consideration unknown gender for authors of 23% reviews for Munich, we will assume that the ratio is close to 50:50 as is case for other cities.\n",
    "\n",
    "Seems the Wisdom \"The secret is to make this place nice for women.\" is not applicable here. If host wants to have good reviews, he needs to take care about both genders equally. Which he should do anyway."
   ]
  },
  {
   "cell_type": "code",
   "execution_count": 7,
   "metadata": {},
   "outputs": [
    {
     "name": "stdout",
     "output_type": "stream",
     "text": [
      " - Release reviews dataset for city 'Prague' from the memory\n",
      " - Release reviews dataset for city 'Munich' from the memory\n",
      " - Release reviews dataset for city 'San Francisco' from the memory\n",
      " - Release reviews dataset for city 'Geneva' from the memory\n"
     ]
    }
   ],
   "source": [
    "# Release already analyzed dataset from the memory\n",
    "for city in cities_list:\n",
    "    print(\" - Release reviews dataset for city \\'{0}\\' from the memory\".format(city.name))\n",
    "    city.release_reviews()"
   ]
  },
  {
   "cell_type": "markdown",
   "metadata": {},
   "source": [
    "# Chapter to get Answer to Question 2\n",
    "2. Is Airbnb used primary as home sharing with tourists? Or as a business where entire flats are dedicated to tourists disturbing local housing market?"
   ]
  },
  {
   "cell_type": "markdown",
   "metadata": {},
   "source": [
    "## Steps to get answer to the question 2"
   ]
  },
  {
   "cell_type": "code",
   "execution_count": 8,
   "metadata": {},
   "outputs": [
    {
     "name": "stdout",
     "output_type": "stream",
     "text": [
      " === Load & explore 'listings' dataset ===\n",
      "- For city 'Prague'\n",
      "The dataset 'listings' has: 14184 rows and 106 columns\n",
      "- For city 'Munich'\n",
      "The dataset 'listings' has: 11481 rows and 106 columns\n",
      "- For city 'San Francisco'\n",
      "The dataset 'listings' has: 8533 rows and 106 columns\n",
      "- For city 'Geneva'\n",
      "The dataset 'listings' has: 3271 rows and 106 columns\n"
     ]
    }
   ],
   "source": [
    "print(\" === Load & explore \\'listings\\' dataset ===\")\n",
    "for city in cities_list:\n",
    "    city.load_listings()\n",
    "    \n",
    "    print(\"- For city \\'{0}\\'\".format(city.name))\n",
    "    explore_data(city.listings, \"listings\")"
   ]
  },
  {
   "cell_type": "code",
   "execution_count": 9,
   "metadata": {},
   "outputs": [
    {
     "name": "stdout",
     "output_type": "stream",
     "text": [
      "= Selecting data for city Prague =\n",
      "= Selecting data for city Munich =\n",
      "= Selecting data for city San Francisco =\n",
      "= Selecting data for city Geneva =\n"
     ]
    }
   ],
   "source": [
    "def select_relevant_data(city):\n",
    "    ''' Selects relevant data from the whole dataset\n",
    "        \n",
    "        Args:\n",
    "            city (City): instance of object City\n",
    "            \n",
    "        Returns:\n",
    "            df1 (pd.DataFrame): row\n",
    "    '''\n",
    "    \n",
    "    if city.data_selection_done == True: # Avoid removing columns that were already removed\n",
    "        print(\"City \\'{0}\\': Relevant columns were already removed\".format(city.name))\n",
    "        return\n",
    "    \n",
    "    print(\"= Selecting data for city {0} =\".format(city.name))\n",
    "\n",
    "    # Select only apartments for our analysis\n",
    "    city.listings = city.listings[(city.listings['property_type'] == 'Apartment')]\n",
    "    \n",
    "    city.data_selection_done = True\n",
    "\n",
    "for city in cities_list:\n",
    "    select_relevant_data(city)"
   ]
  },
  {
   "cell_type": "code",
   "execution_count": 10,
   "metadata": {},
   "outputs": [
    {
     "name": "stdout",
     "output_type": "stream",
     "text": [
      "['Entire home/apt' 'Private room' 'Shared room']\n"
     ]
    }
   ],
   "source": [
    "# show avaible values for room_type\n",
    "print(prague.listings.room_type.unique())"
   ]
  },
  {
   "cell_type": "code",
   "execution_count": 11,
   "metadata": {},
   "outputs": [
    {
     "name": "stdout",
     "output_type": "stream",
     "text": [
      "=== Load accomodation type statistics ===\n"
     ]
    },
    {
     "data": {
      "text/html": [
       "<div>\n",
       "<style scoped>\n",
       "    .dataframe tbody tr th:only-of-type {\n",
       "        vertical-align: middle;\n",
       "    }\n",
       "\n",
       "    .dataframe tbody tr th {\n",
       "        vertical-align: top;\n",
       "    }\n",
       "\n",
       "    .dataframe thead th {\n",
       "        text-align: right;\n",
       "    }\n",
       "</style>\n",
       "<table border=\"1\" class=\"dataframe\">\n",
       "  <thead>\n",
       "    <tr style=\"text-align: right;\">\n",
       "      <th></th>\n",
       "      <th>count_of_entire_homes</th>\n",
       "      <th>entire_home_%</th>\n",
       "      <th>private_room_%</th>\n",
       "      <th>shared_room_%</th>\n",
       "      <th>count_of_records</th>\n",
       "    </tr>\n",
       "    <tr>\n",
       "      <th>city</th>\n",
       "      <th></th>\n",
       "      <th></th>\n",
       "      <th></th>\n",
       "      <th></th>\n",
       "      <th></th>\n",
       "    </tr>\n",
       "  </thead>\n",
       "  <tbody>\n",
       "    <tr>\n",
       "      <th>Prague</th>\n",
       "      <td>9947</td>\n",
       "      <td>83.997636</td>\n",
       "      <td>15.208580</td>\n",
       "      <td>0.793785</td>\n",
       "      <td>11842</td>\n",
       "    </tr>\n",
       "    <tr>\n",
       "      <th>Munich</th>\n",
       "      <td>5811</td>\n",
       "      <td>57.947746</td>\n",
       "      <td>40.616274</td>\n",
       "      <td>1.435979</td>\n",
       "      <td>10028</td>\n",
       "    </tr>\n",
       "    <tr>\n",
       "      <th>San Francisco</th>\n",
       "      <td>2522</td>\n",
       "      <td>72.763993</td>\n",
       "      <td>24.120023</td>\n",
       "      <td>3.115984</td>\n",
       "      <td>3466</td>\n",
       "    </tr>\n",
       "    <tr>\n",
       "      <th>Geneva</th>\n",
       "      <td>1875</td>\n",
       "      <td>69.162671</td>\n",
       "      <td>29.915160</td>\n",
       "      <td>0.922169</td>\n",
       "      <td>2711</td>\n",
       "    </tr>\n",
       "  </tbody>\n",
       "</table>\n",
       "</div>"
      ],
      "text/plain": [
       "              count_of_entire_homes  entire_home_%  private_room_%  \\\n",
       "city                                                                 \n",
       "Prague                         9947      83.997636       15.208580   \n",
       "Munich                         5811      57.947746       40.616274   \n",
       "San Francisco                  2522      72.763993       24.120023   \n",
       "Geneva                         1875      69.162671       29.915160   \n",
       "\n",
       "               shared_room_% count_of_records  \n",
       "city                                           \n",
       "Prague              0.793785            11842  \n",
       "Munich              1.435979            10028  \n",
       "San Francisco       3.115984             3466  \n",
       "Geneva              0.922169             2711  "
      ]
     },
     "metadata": {},
     "output_type": "display_data"
    }
   ],
   "source": [
    "def analyze_accomodation_type(city):\n",
    "    ''' Get row with accomodation type statistics for a given city\n",
    "        \n",
    "        Args:\n",
    "            city (City): instance of object City\n",
    "            \n",
    "        Returns:\n",
    "            df1 (pd.DataFrame): row with accomodation type statistics for a given city\n",
    "    '''\n",
    "    total_count = city.listings.shape[0]\n",
    "    entire_home_count = (city.listings['room_type'] == 'Entire home/apt').sum()\n",
    "    private_room_count = (city.listings['room_type'] == 'Private room').sum()\n",
    "    shared_room_count = (city.listings['room_type'] == 'Shared room').sum()\n",
    "    \n",
    "    entire_home_perc = (100*entire_home_count/total_count)\n",
    "    private_room_perc = (100*private_room_count/total_count)\n",
    "    shared_room_perc = (100*shared_room_count/total_count)\n",
    "    \n",
    "    df1 = pd.DataFrame({'city': [city.name], \n",
    "                    'count_of_entire_homes': [entire_home_count],\n",
    "                    'entire_home_%': [entire_home_perc],\n",
    "                    'private_room_%': [private_room_perc],\n",
    "                    'shared_room_%': [shared_room_perc],\n",
    "                    'count_of_records': [total_count]})\n",
    "    return df1\n",
    "\n",
    "table_accomodation_type = pd.DataFrame(columns = ['city', 'count_of_entire_homes', 'entire_home_%', 'private_room_%', 'shared_room_%', 'count_of_records'])\n",
    "\n",
    "print(\"=== Load accomodation type statistics ===\") \n",
    "for city in cities_list:\n",
    "    df1 = analyze_accomodation_type(city)\n",
    "    table_accomodation_type = table_accomodation_type.append(df1)\n",
    "    \n",
    "table_accomodation_type.set_index(\"city\", inplace=True) \n",
    "display(table_accomodation_type)"
   ]
  },
  {
   "cell_type": "code",
   "execution_count": 12,
   "metadata": {
    "scrolled": false
   },
   "outputs": [
    {
     "data": {
      "image/png": "[encoded data removed]",
      "text/plain": [
       "<Figure size 1440x360 with 4 Axes>"
      ]
     },
     "metadata": {},
     "output_type": "display_data"
    }
   ],
   "source": [
    "# visualize results in pie-chart\n",
    "colors = ['#e59866', '#b2babb', '#85929e']\n",
    "explode = (0.09, 0, 0) \n",
    "\n",
    "transpose = table_accomodation_type.drop(columns=['count_of_entire_homes', 'count_of_records']).transpose()\n",
    "\n",
    "\n",
    "p = transpose.plot(kind='pie', subplots=True, \n",
    "                   figsize=(20, 5), explode=explode, colors=colors, autopct='%1.1f%%', \n",
    "                   shadow=True, title = ['Prague', 'Munich', 'San Francisco', 'Geneva'], \n",
    "                   pctdistance=1.17, legend=False, labels=None)"
   ]
  },
  {
   "cell_type": "markdown",
   "metadata": {},
   "source": [
    "- Brown in the pie chart is % of entire homes beeing rented on AirBnB\n",
    "- Light green is % of private rooms\n",
    "- Dark green is % of shared rooms"
   ]
  },
  {
   "cell_type": "markdown",
   "metadata": {},
   "source": [
    "## Answer to the question 2\n",
    "\n",
    "From the table and charts above is clear that on Airbnb are listed mostly entire apartments.\n",
    "- Good for tourists as they have many choices where to stay in place of their own.\n",
    "- Not so good for local citizens thought. Houses dedicated for short term rentals are often houses not avaible for long-term rental, making housing in a city less affordable. This represents problem even for cities as they receive money based on how many people live in a given city.\n",
    "- The highest number of entire flats available for rent is in Prague where were listed 9947 apartments, representing 84% of total AirBnB offering there. Seems AirBnB is becoming more professional business platform, than platform for sharing unused spaces with visitors."
   ]
  }
 ],
 "metadata": {
  "kernelspec": {
   "display_name": "Python 3",
   "language": "python",
   "name": "python3"
  },
  "language_info": {
   "codemirror_mode": {
    "name": "ipython",
    "version": 3
   },
   "file_extension": ".py",
   "mimetype": "text/x-python",
   "name": "python",
   "nbconvert_exporter": "python",
   "pygments_lexer": "ipython3",
   "version": "3.7.0"
  }
 },
 "nbformat": 4,
 "nbformat_minor": 2
}
